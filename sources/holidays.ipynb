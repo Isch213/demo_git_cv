{
 "cells": [
  {
   "cell_type": "code",
   "execution_count": 4,
   "metadata": {},
   "outputs": [],
   "source": [
    "from datetime import date, timedelta\n",
    "import holidays"
   ]
  },
  {
   "cell_type": "markdown",
   "metadata": {},
   "source": [
    "# holidays object with additional information of \"subdivision\" e.g. BAYERN (BY))"
   ]
  },
  {
   "cell_type": "code",
   "execution_count": null,
   "metadata": {},
   "outputs": [
    {
     "data": {
      "text/plain": [
       "{datetime.date(2025, 1, 1): 'Neujahr', datetime.date(2025, 4, 18): 'Karfreitag', datetime.date(2025, 4, 21): 'Ostermontag', datetime.date(2025, 5, 1): 'Erster Mai', datetime.date(2025, 5, 29): 'Christi Himmelfahrt', datetime.date(2025, 6, 9): 'Pfingstmontag', datetime.date(2025, 10, 3): 'Tag der Deutschen Einheit', datetime.date(2025, 12, 25): 'Erster Weihnachtstag', datetime.date(2025, 12, 26): 'Zweiter Weihnachtstag', datetime.date(2025, 1, 6): 'Heilige Drei Könige', datetime.date(2025, 6, 19): 'Fronleichnam', datetime.date(2025, 11, 1): 'Allerheiligen'}"
      ]
     },
     "execution_count": 5,
     "metadata": {},
     "output_type": "execute_result"
    }
   ],
   "source": [
    "de_holidays = holidays.country_holidays('DE',years=range(2025, 2026),subdiv='BY')\n"
   ]
  },
  {
   "cell_type": "code",
   "execution_count": 18,
   "metadata": {},
   "outputs": [
    {
     "data": {
      "text/plain": [
       "False"
      ]
     },
     "execution_count": 18,
     "metadata": {},
     "output_type": "execute_result"
    }
   ],
   "source": [
    "isinstance(type(de_holidays),dict)"
   ]
  },
  {
   "cell_type": "code",
   "execution_count": 33,
   "metadata": {},
   "outputs": [
    {
     "name": "stdout",
     "output_type": "stream",
     "text": [
      "2025-01-01 Neujahr\n",
      "2025-04-18 Karfreitag\n",
      "2025-04-21 Ostermontag\n",
      "2025-05-01 Erster Mai\n",
      "2025-05-29 Christi Himmelfahrt\n",
      "2025-06-09 Pfingstmontag\n",
      "2025-10-03 Tag der Deutschen Einheit\n",
      "2025-12-25 Erster Weihnachtstag\n",
      "2025-12-26 Zweiter Weihnachtstag\n",
      "2025-01-06 Heilige Drei Könige\n",
      "2025-06-19 Fronleichnam\n",
      "2025-11-01 Allerheiligen\n"
     ]
    }
   ],
   "source": [
    "for k,v in de_holidays.items():\n",
    "    print(k,v)"
   ]
  },
  {
   "cell_type": "code",
   "execution_count": 1,
   "metadata": {},
   "outputs": [],
   "source": [
    "import csv"
   ]
  },
  {
   "cell_type": "code",
   "execution_count": null,
   "metadata": {},
   "outputs": [],
   "source": [
    "# Save to CSV\n",
    "with open(\"output.csv\", \"w\", newline=\"\") as file:\n",
    "    writer = csv.writer(file)\n",
    "    writer.writerow(data)  # Writes the list as a single row"
   ]
  }
 ],
 "metadata": {
  "kernelspec": {
   "display_name": "virtual",
   "language": "python",
   "name": "python3"
  },
  "language_info": {
   "codemirror_mode": {
    "name": "ipython",
    "version": 3
   },
   "file_extension": ".py",
   "mimetype": "text/x-python",
   "name": "python",
   "nbconvert_exporter": "python",
   "pygments_lexer": "ipython3",
   "version": "3.12.1"
  }
 },
 "nbformat": 4,
 "nbformat_minor": 2
}
